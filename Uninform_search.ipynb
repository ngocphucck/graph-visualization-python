{
 "cells": [
  {
   "cell_type": "markdown",
   "metadata": {},
   "source": [
    "<h3>Generate a graph<h3>"
   ]
  },
  {
   "cell_type": "code",
   "execution_count": 4,
   "metadata": {},
   "outputs": [],
   "source": [
    "#Library for visualize a graph\n",
    "import networkx as nx\n",
    "import matplotlib.pyplot as plt\n",
    "import math"
   ]
  },
  {
   "cell_type": "code",
   "execution_count": 5,
   "metadata": {},
   "outputs": [],
   "source": [
    "#My graph class with the gather of nodes and edges\n",
    "class Graph:\n",
    "    nodes = []\n",
    "    edges = []\n",
    "    \n",
    "    def add_node(self, node):\n",
    "        self.nodes.append(node)\n",
    "        \n",
    "    def add_edge(self, edge):\n",
    "        self.edges.append(edge)\n",
    "        \n",
    "    def display(self):\n",
    "        G = nx.Graph()\n",
    "        G.add_nodes_from(self.nodes)\n",
    "        G.add_edges_from(self.edges)\n",
    "        nx.draw(G, with_labels=True, font_weight='bold')\n",
    "    \n",
    "    def adj(self, node):\n",
    "        adjust = set()\n",
    "        for iterate in self.edges:\n",
    "            if iterate[0] == node:\n",
    "                adjust.add(iterate[1])\n",
    "            if iterate[1] == node:\n",
    "                adjust.add(iterate[0])\n",
    "        return adjust\n",
    "    \n",
    "    def cost(self, node1, node2):\n",
    "        for iterate in self.edges:\n",
    "            if iterate[0] == node1 and iterate[1] == node2:\n",
    "                return iterate[2]['weight']\n",
    "            if iterate[0] == node2 and iterate[1] == node1:\n",
    "                return iterate[2]['weight']\n",
    "        return math.inf"
   ]
  },
  {
   "cell_type": "markdown",
   "metadata": {},
   "source": [
    "<h4>Make the Romania graph<h4>"
   ]
  },
  {
   "cell_type": "code",
   "execution_count": 6,
   "metadata": {},
   "outputs": [],
   "source": [
    "city = Graph()\n",
    "city.add_node((0, {'name' : 'Arad'}))\n",
    "city.add_node((1, {'name' : 'Zerind'}))\n",
    "city.add_node((2, {'name' : 'Oradea'}))\n",
    "city.add_node((3, {'name' : 'Sibiu'}))\n",
    "city.add_node((4, {'name' : 'Timisoara'}))\n",
    "city.add_node((5, {'name' : 'Lugoj'}))\n",
    "city.add_node((6, {'name' : 'Mehadia'}))\n",
    "city.add_node((7, {'name' : 'Dobreta'}))\n",
    "city.add_node((8, {'name' : 'Rimnicu Vilcea'}))\n",
    "city.add_node((9, {'name' : 'Fagaras'}))\n",
    "city.add_node((10, {'name' : 'Pitesti'}))\n",
    "city.add_node((11, {'name' : 'Bucharest'}))\n",
    "city.add_node((12, {'name' : 'Giurgiu'}))\n",
    "city.add_node((13, {'name' : 'Urziceni'}))\n",
    "city.add_node((14, {'name' : 'Hirsova'}))\n",
    "city.add_node((15, {'name' : 'Eforie'}))\n",
    "city.add_node((16, {'name' : 'Vaslui'}))\n",
    "city.add_node((17, {'name' : 'Lasi'}))\n",
    "city.add_node((18, {'name' : 'Neamt'}))\n",
    "city.add_node((19, {'name' : 'Craiova'}))\n",
    "\n",
    "city.add_edge((0, 1, {'weight' : 75}))\n",
    "city.add_edge((1, 2, {'weight' : 71}))\n",
    "city.add_edge((2, 3, {'weight' : 151}))\n",
    "city.add_edge((0, 3, {'weight' : 140}))\n",
    "city.add_edge((0, 4, {'weight' : 118}))\n",
    "city.add_edge((4, 5, {'weight' : 111}))\n",
    "city.add_edge((5, 6, {'weight' : 70}))\n",
    "city.add_edge((6, 7, {'weight' : 75}))\n",
    "city.add_edge((7, 19, {'weight' : 120}))\n",
    "city.add_edge((3, 8, {'weight' : 80}))\n",
    "city.add_edge((3, 9, {'weight' : 99}))\n",
    "city.add_edge((8, 19, {'weight' : 146}))\n",
    "city.add_edge((8, 10, {'weight' : 97}))\n",
    "city.add_edge((10, 19, {'weight' : 138}))\n",
    "city.add_edge((9, 11, {'weight' : 211}))\n",
    "city.add_edge((11, 12, {'weight' : 90}))\n",
    "city.add_edge((11, 13, {'weight' : 85}))\n",
    "city.add_edge((13, 14, {'weight' : 98}))\n",
    "city.add_edge((14, 15, {'weight' : 86}))\n",
    "city.add_edge((13, 16, {'weight' : 142}))\n",
    "city.add_edge((16, 17, {'weight' : 92}))\n",
    "city.add_edge((17, 18, {'weight' : 87}))\n",
    "city.add_edge((10, 11, {'weight' : 101}))"
   ]
  },
  {
   "cell_type": "code",
   "execution_count": 7,
   "metadata": {},
   "outputs": [
    {
     "data": {
      "text/plain": [
       "[(0, 1, {'weight': 75}),\n",
       " (1, 2, {'weight': 71}),\n",
       " (2, 3, {'weight': 151}),\n",
       " (0, 3, {'weight': 140}),\n",
       " (0, 4, {'weight': 118}),\n",
       " (4, 5, {'weight': 111}),\n",
       " (5, 6, {'weight': 70}),\n",
       " (6, 7, {'weight': 75}),\n",
       " (7, 19, {'weight': 120}),\n",
       " (3, 8, {'weight': 80}),\n",
       " (3, 9, {'weight': 99}),\n",
       " (8, 19, {'weight': 146}),\n",
       " (8, 10, {'weight': 97}),\n",
       " (10, 19, {'weight': 138}),\n",
       " (9, 11, {'weight': 211}),\n",
       " (11, 12, {'weight': 90}),\n",
       " (11, 13, {'weight': 85}),\n",
       " (13, 14, {'weight': 98}),\n",
       " (14, 15, {'weight': 86}),\n",
       " (13, 16, {'weight': 142}),\n",
       " (16, 17, {'weight': 92}),\n",
       " (17, 18, {'weight': 87}),\n",
       " (10, 11, {'weight': 101})]"
      ]
     },
     "execution_count": 7,
     "metadata": {},
     "output_type": "execute_result"
    }
   ],
   "source": [
    "city.edges"
   ]
  },
  {
   "cell_type": "code",
   "execution_count": 8,
   "metadata": {},
   "outputs": [
    {
     "data": {
      "image/png": "[encoded data removed]",
      "text/plain": [
       "<Figure size 432x288 with 1 Axes>"
      ]
     },
     "metadata": {},
     "output_type": "display_data"
    }
   ],
   "source": [
    "city.display()"
   ]
  },
  {
   "cell_type": "markdown",
   "metadata": {},
   "source": [
    "<h4>Breath first search<h4>"
   ]
  },
  {
   "cell_type": "code",
   "execution_count": 9,
   "metadata": {},
   "outputs": [],
   "source": [
    "class Queue:    \n",
    "    def __init__(self):\n",
    "        self.data = []\n",
    "    \n",
    "    def enqueue(self, node):\n",
    "        self.data.append(node)\n",
    "        \n",
    "    def dequeue(self):\n",
    "        if len(self.data) == 0:\n",
    "            return None\n",
    "        return self.data.pop(0)\n",
    "    \n",
    "    def isempty(self):\n",
    "        return len(self.data) == 0\n",
    "    \n",
    "class BFS:\n",
    "    def __init__(self, problem):\n",
    "        self.problem = problem\n",
    "    \n",
    "    def search(self, source, destination):\n",
    "        visited = [False] * len(self.problem.nodes)\n",
    "        path = {source : None}\n",
    "        fringe = Queue()\n",
    "\n",
    "        visited[source] = True\n",
    "        fringe.enqueue(source)\n",
    "        \n",
    "        while not fringe.isempty():\n",
    "            current = fringe.dequeue()\n",
    "            if current == destination:\n",
    "                return ('search complete!', path)\n",
    "            \n",
    "            for iterate in [element for element in self.problem.adj(current) if visited[element] == False]:\n",
    "                visited[iterate] = True\n",
    "                fringe.enqueue(iterate)\n",
    "                path[iterate] = current\n",
    "        return ('Not found', path)\n",
    "    \n",
    "    def find_path(self, source, destination):\n",
    "        status, path = self.search(source, destination)\n",
    "        driven = []\n",
    "        \n",
    "        def display_path(node):\n",
    "            driven.append(node)\n",
    "            if path[node] == None:\n",
    "                return \n",
    "            display_path(path[node])\n",
    "            \n",
    "        if status == 'Not found':\n",
    "            print(status)\n",
    "            return None\n",
    "        else:\n",
    "            print(status)\n",
    "            display_path(destination)\n",
    "            print(driven[-1::-1])\n",
    "   "
   ]
  },
  {
   "cell_type": "code",
   "execution_count": 10,
   "metadata": {},
   "outputs": [
    {
     "name": "stdout",
     "output_type": "stream",
     "text": [
      "search complete!\n",
      "[2, 3, 9, 11, 13, 16]\n",
      "search complete!\n",
      "[5, 4, 0, 1]\n",
      "search complete!\n",
      "[0, 3, 9, 11, 13, 16, 17, 18]\n"
     ]
    }
   ],
   "source": [
    "#Apply BFS algorithm for the Romania road\n",
    "solution1 = BFS(city)\n",
    "solution1.find_path(2, 16)  \n",
    "solution1.find_path(5, 1)\n",
    "solution1.find_path(0, 18)\n"
   ]
  },
  {
   "cell_type": "markdown",
   "metadata": {},
   "source": [
    "<h4>Depth first search<h4>"
   ]
  },
  {
   "cell_type": "code",
   "execution_count": 11,
   "metadata": {},
   "outputs": [],
   "source": [
    "class Stack:\n",
    "    def __init__(self):\n",
    "        self.data = []\n",
    "    \n",
    "    def push(self, node):\n",
    "        self.data.append(node)\n",
    "        \n",
    "    def pop(self):\n",
    "        if len(self.data) == 0:\n",
    "            return None\n",
    "        return self.data.pop(-1)\n",
    "    \n",
    "    def isempty(self):\n",
    "        return len(self.data) == 0\n",
    "\n",
    "class DFS:\n",
    "    def __init__(self, problem):\n",
    "        self.problem = problem\n",
    "    \n",
    "    def search(self, source, destination):\n",
    "        visited = [False] * len(self.problem.nodes)\n",
    "        path = {source : None}\n",
    "        fringe = Stack()\n",
    "\n",
    "        visited[source] = True\n",
    "        fringe.push(source)\n",
    "        \n",
    "        while not fringe.isempty():\n",
    "            current = fringe.pop()\n",
    "            if current == destination:\n",
    "                return ('search complete!', path)\n",
    "            \n",
    "            for iterate in [element for element in self.problem.adj(current) if visited[element] == False]:\n",
    "                visited[iterate] = True\n",
    "                fringe.push(iterate)\n",
    "                path[iterate] = current\n",
    "        return ('Not found', path)\n",
    "    \n",
    "    def find_path(self, source, destination):\n",
    "        status, path = self.search(source, destination)\n",
    "        driven = []\n",
    "        \n",
    "        def display_path(node):\n",
    "            driven.append(node)\n",
    "            if path[node] == None:\n",
    "                return \n",
    "            display_path(path[node])\n",
    "            \n",
    "        if status == 'Not found':\n",
    "            print(status)\n",
    "            return None\n",
    "        else:\n",
    "            print(status)\n",
    "            display_path(destination)\n",
    "            print(driven[-1::-1])"
   ]
  },
  {
   "cell_type": "code",
   "execution_count": 12,
   "metadata": {},
   "outputs": [
    {
     "name": "stdout",
     "output_type": "stream",
     "text": [
      "search complete!\n",
      "[2, 3, 9, 11, 13, 16]\n",
      "search complete!\n",
      "[5, 6, 7, 19, 10, 11, 9, 3, 2, 1]\n",
      "search complete!\n",
      "[0, 4, 5, 6, 7, 19, 10, 11, 13, 16, 17, 18]\n"
     ]
    }
   ],
   "source": [
    "#Apply DFS algorithm for the Romania road\n",
    "solution = DFS(city)\n",
    "solution.find_path(2, 16)  \n",
    "solution.find_path(5, 1)\n",
    "solution.find_path(0, 18)"
   ]
  },
  {
   "cell_type": "markdown",
   "metadata": {},
   "source": [
    "<h4>Uniform cost search<h4>"
   ]
  },
  {
   "cell_type": "code",
   "execution_count": 13,
   "metadata": {},
   "outputs": [],
   "source": [
    "class priorQueue:\n",
    "    def __init__(self):\n",
    "        self.data = {}\n",
    "        \n",
    "    def enqueue(self, node, cost):\n",
    "        self.data[node] = cost\n",
    "        \n",
    "    def update(self, node, cost):\n",
    "        self.data[node] = min(self.data[node], cost)\n",
    "        if self.data[node] == cost:\n",
    "            return 'updated'\n",
    "        return 'unchanged'\n",
    "\n",
    "    \n",
    "    def dequeue(self):\n",
    "        min_node = min(self.data, key = self.data.get)\n",
    "        min_value = self.data[min_node]\n",
    "        self.data.pop(min_node)\n",
    "        return {min_node : min_value}\n",
    "    \n",
    "    def isempty(self):\n",
    "        return len(self.data) == 0\n",
    "    \n",
    "class UCS:\n",
    "    def __init__(self, problem):\n",
    "        self.problem = problem\n",
    "    \n",
    "    def search(self, source, destination):\n",
    "        fringer = priorQueue()\n",
    "        visited = [False] * len(self.problem.nodes)\n",
    "        optimal = [False] * len(self.problem.nodes)\n",
    "        cost = {}\n",
    "        path = {}\n",
    "        \n",
    "        path[source] = None\n",
    "        fringer.enqueue(source, 0)\n",
    "        \n",
    "        while not fringer.isempty():\n",
    "            current = fringer.dequeue()\n",
    "            current_node = list(current.keys())[0]\n",
    "            current_cost = list(current.values())[0]\n",
    "            visited[current_node] = True\n",
    "            optimal[current_node] = True\n",
    "            cost.update(current)\n",
    "            \n",
    "            if current_node == destination:\n",
    "                return cost, path\n",
    "\n",
    "            for iterate in [node for node in self.problem.adj(current_node) if optimal[node] == False]:\n",
    "                if visited[iterate] == False:\n",
    "                    visited[iterate] = True\n",
    "                    fringer.enqueue(iterate, current_cost + self.problem.cost(current_node, iterate))\n",
    "                    path.update({iterate : current_node})\n",
    "                else:\n",
    "                    if fringer.update(iterate, current_cost + self.problem.cost(current_node, iterate)) == 'updated':\n",
    "                        path.update({iterate : current_node})\n",
    "                    \n",
    "    \n",
    "    def find_path(self, source, destination):\n",
    "        cost, path = self.search(source, destination)\n",
    "        driven = []\n",
    "        def display_path(node):\n",
    "            driven.append(node)\n",
    "            if path[node] == None:\n",
    "                return None\n",
    "            display_path(path[node])\n",
    "                \n",
    "        display_path(destination)\n",
    "        print(\"* Solution \", source, \" -> \", destination, \" :\")\n",
    "        for i in driven[-1::-1]:\n",
    "            print((i, cost[i]))"
   ]
  },
  {
   "cell_type": "code",
   "execution_count": 14,
   "metadata": {},
   "outputs": [
    {
     "name": "stdout",
     "output_type": "stream",
     "text": [
      "* Solution  0  ->  18  :\n",
      "(0, 0)\n",
      "(3, 140)\n",
      "(8, 220)\n",
      "(10, 317)\n",
      "(11, 418)\n",
      "(13, 503)\n",
      "(16, 645)\n",
      "(17, 737)\n",
      "(18, 824)\n",
      "* Solution  2  ->  8  :\n",
      "(2, 0)\n",
      "(3, 151)\n",
      "(8, 231)\n",
      "* Solution  1  ->  17  :\n",
      "(1, 0)\n",
      "(0, 75)\n",
      "(3, 215)\n",
      "(8, 295)\n",
      "(10, 392)\n",
      "(11, 493)\n",
      "(13, 578)\n",
      "(16, 720)\n",
      "(17, 812)\n"
     ]
    }
   ],
   "source": [
    "solution = UCS(city)\n",
    "solution.find_path(0, 18)\n",
    "solution.find_path(2, 8)\n",
    "solution.find_path(1, 17)"
   ]
  },
  {
   "cell_type": "markdown",
   "metadata": {},
   "source": [
    "<h4>depth limit search<h4>"
   ]
  },
  {
   "cell_type": "code",
   "execution_count": 15,
   "metadata": {},
   "outputs": [],
   "source": [
    "class Stack:\n",
    "    def __init__(self):\n",
    "        self.data = []\n",
    "    \n",
    "    def push(self, node):\n",
    "        self.data.append(node)\n",
    "        \n",
    "    def pop(self):\n",
    "        if len(self.data) == 0:\n",
    "            return None\n",
    "        return self.data.pop(-1)\n",
    "    \n",
    "    def isempty(self):\n",
    "        return len(self.data) == 0\n",
    "    \n",
    "class DLS:\n",
    "    def __init__(self, problem):\n",
    "        self.problem = problem\n",
    "        \n",
    "    def search(self, source, destination, depth_limit):\n",
    "        visited = [False] * len(self.problem.nodes)\n",
    "        deg = [0] * len(self.problem.nodes) #for limit the depth\n",
    "        path = {source : None}\n",
    "        fringe = Stack()\n",
    "\n",
    "        visited[source] = True\n",
    "        deg[source] = 1\n",
    "        fringe.push(source)\n",
    "        \n",
    "        \n",
    "        while not fringe.isempty():\n",
    "            current = fringe.pop()\n",
    "            if current == destination:\n",
    "                return ('search complete!', path)\n",
    "            \n",
    "            for iterate in [element for element in self.problem.adj(current) if visited[element] == False]:\n",
    "                visited[iterate] = True\n",
    "                deg[iterate] = deg[current] + 1\n",
    "                if deg[iterate] <= depth_limit:\n",
    "                    fringe.push(iterate)\n",
    "                    path[iterate] = current\n",
    "        return ('Not found', path)\n",
    "    \n",
    "    def find_path(self, source, destination, depth_limit):\n",
    "        status, path = self.search(source, destination, depth_limit)\n",
    "        driven = []\n",
    "        \n",
    "        def display_path(node):\n",
    "            driven.append(node)\n",
    "            if path[node] == None:\n",
    "                return \n",
    "            display_path(path[node])\n",
    "            \n",
    "        if status == 'Not found':\n",
    "            print(status)\n",
    "            return None\n",
    "        else:\n",
    "            print(status)\n",
    "            display_path(destination)\n",
    "        print(driven[-1::-1])"
   ]
  },
  {
   "cell_type": "code",
   "execution_count": 16,
   "metadata": {},
   "outputs": [
    {
     "name": "stdout",
     "output_type": "stream",
     "text": [
      "search complete!\n",
      "[2, 3, 9, 11, 13]\n",
      "search complete!\n",
      "[11, 13, 16, 17]\n"
     ]
    }
   ],
   "source": [
    "solution = DLS(city)\n",
    "solution.find_path(2, 13, 5)\n",
    "solution.find_path(11, 17, 4)"
   ]
  },
  {
   "cell_type": "markdown",
   "metadata": {},
   "source": [
    "<h4>Iterative deepening search<h4>"
   ]
  },
  {
   "cell_type": "code",
   "execution_count": 42,
   "metadata": {},
   "outputs": [],
   "source": [
    "class IDS:\n",
    "    def __init__(self, problem):\n",
    "        self.problem = problem\n",
    "        \n",
    "    def search(self, source, destination):\n",
    "        dls = DLS(self.problem)\n",
    "        depth_limit_max = len(self.problem.nodes)\n",
    "        depth_limit = 1\n",
    "        loop = 0\n",
    "        \n",
    "        while depth_limit <= depth_limit_max:\n",
    "            status, path = dls.search(source, destination, depth_limit)\n",
    "            if status == 'search complete!':\n",
    "                return status, path\n",
    "            depth_limit += 1\n",
    "        return 'Not Found', {}\n",
    "    \n",
    "    def find_path(self, source, destination):\n",
    "        status, path = self.search(source, destination)\n",
    "        driven = []\n",
    "        if status == 'search complete!':\n",
    "            def display_path(node):\n",
    "                driven.append(node)\n",
    "                if path[node] == None:\n",
    "                    return None\n",
    "                display_path(path[node])\n",
    "            display_path(destination)\n",
    "            print(status)\n",
    "            print(driven[-1::-1])\n",
    "        else:\n",
    "            print(status)"
   ]
  },
  {
   "cell_type": "code",
   "execution_count": 43,
   "metadata": {},
   "outputs": [
    {
     "name": "stdout",
     "output_type": "stream",
     "text": [
      "search complete!\n",
      "[5, 6, 7, 19, 10, 11, 13, 14, 15]\n"
     ]
    }
   ],
   "source": [
    "solution = IDS(city)\n",
    "solution.find_path(5, 15)"
   ]
  }
 ],
 "metadata": {
  "kernelspec": {
   "display_name": "Python 3",
   "language": "python",
   "name": "python3"
  }
 },
 "nbformat": 4,
 "nbformat_minor": 4
}
